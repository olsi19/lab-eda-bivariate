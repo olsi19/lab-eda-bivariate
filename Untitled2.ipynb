{
 "cells": [
  {
   "cell_type": "code",
   "execution_count": null,
   "id": "1dab2198-dd40-4708-b58a-8397eb6e3396",
   "metadata": {},
   "outputs": [],
   "source": [
    "import pandas as pd\n",
    "import matplotlib.pyplot as plt\n",
    "import seaborn as sns\n",
    "import numpy as np\n",
    "\n",
    "%matplotlib inline\n",
    "df = pd.read_csv(r\"C:\\Users\\zaiid\\OneDrive\\Desktop\\archive (3)\\amz_uk_price_prediction_dataset.csv\")"
   ]
  },
  {
   "cell_type": "code",
   "execution_count": null,
   "id": "3bd9484d-e4d8-4ce9-b500-b85fe9fe3f58",
   "metadata": {},
   "outputs": [],
   "source": [
    "df"
   ]
  },
  {
   "cell_type": "markdown",
   "id": "594b5f3e-ca9f-4666-94d5-76e31230248b",
   "metadata": {},
   "source": [
    "Objective: Understand the relationship between product categories and their best-seller status.\n",
    "\n",
    "Crosstab Analysis:\n",
    "\n",
    "Create a crosstab between the product category and the isBestSeller status.\n",
    "\n",
    "Are there categories where being a best-seller is more prevalent?\n",
    "\n",
    "Hint: one option is to calculate the proportion of best-sellers for each category and then sort the categories based on this proportion in descending order.\n",
    "\n",
    "Statistical Tests:\n",
    "\n",
    "Conduct a Chi-square test to determine if the best-seller distribution is independent of the product category.\n",
    "Compute Cramér's V to understand the strength of association between best-seller status and category.\n",
    "Visualizations:\n",
    "\n",
    "Visualize the relationship between product categories and the best-seller status using a stacked bar chart."
   ]
  },
  {
   "cell_type": "code",
   "execution_count": null,
   "id": "b0a1dc9d-856a-4629-9677-7ae1f016e5e2",
   "metadata": {},
   "outputs": [],
   "source": [
    "crosstab_result = pd.crosstab(df['category'], df['isBestSeller'])\n",
    "\n",
    "crosstab_result"
   ]
  },
  {
   "cell_type": "code",
   "execution_count": null,
   "id": "838823d5-d852-4e30-9d02-e3454912b6a4",
   "metadata": {},
   "outputs": [],
   "source": [
    "df.groupby(\"category\")[\"isBestSeller\"].value_counts(normalize=True)"
   ]
  },
  {
   "cell_type": "code",
   "execution_count": null,
   "id": "c7381fc0-40e2-43c8-bf01-1d3d3f3c9f35",
   "metadata": {},
   "outputs": [],
   "source": [
    "#no ist not more prevelent"
   ]
  },
  {
   "cell_type": "code",
   "execution_count": null,
   "id": "c849f51d-fcb2-4398-bad9-856440dafe7a",
   "metadata": {},
   "outputs": [],
   "source": [
    "from scipy.stats import chi2_contingency\n",
    "\n",
    "chi2_statistic, chi2_p_value, _, _ = chi2_contingency(crosstab_result)\n",
    "\n",
    "chi2_statistic, chi2_p_value"
   ]
  },
  {
   "cell_type": "code",
   "execution_count": null,
   "id": "3c6274c8-a095-45ca-9533-debca87cd860",
   "metadata": {},
   "outputs": [],
   "source": [
    "#that means that values have a relationship between them"
   ]
  },
  {
   "cell_type": "code",
   "execution_count": null,
   "id": "869fd5ad-2b77-43e3-b40a-8680ecac41d5",
   "metadata": {},
   "outputs": [],
   "source": [
    "from scipy.stats.contingency import association\n",
    "\n",
    "association(crosstab_result, method=\"cramer\")"
   ]
  },
  {
   "cell_type": "code",
   "execution_count": null,
   "id": "81a6ac0f-34b2-4dbe-8155-79d5cdbb1802",
   "metadata": {},
   "outputs": [],
   "source": [
    "#sugesst a strong association betwwen two variables"
   ]
  },
  {
   "cell_type": "code",
   "execution_count": null,
   "id": "03d7186c-018d-47aa-9746-401390df3fbe",
   "metadata": {},
   "outputs": [],
   "source": [
    "crosstab_result.plot(kind=\"bar\" ,stacked= \"True\")"
   ]
  },
  {
   "cell_type": "markdown",
   "id": "82ffcecc-36d9-4703-b735-2cb09875a8d7",
   "metadata": {},
   "source": [
    "Objective: Investigate how different product categories influence product prices.\n",
    "\n",
    "Preliminary Step: Remove outliers in product prices.\n",
    "\n",
    "For this purpose, we can use the IQR (Interquartile Range) method. Products priced below the first quartile minus 1.5 times the IQR or above the third quartile plus 1.5 times the IQR will be considered outliers and removed from the dataset. The next steps will be done with the dataframe without outliers.\n",
    "\n",
    "Hint: you can check the last Check For Understanding at the end of the lesson EDA Bivariate Analysis for a hint on how to do this.\n",
    "\n",
    "Violin Plots:\n",
    "\n",
    "Use a violin plot to visualize the distribution of price across different product categories. Filter out the top 20 categories based on count for better visualization.\n",
    "Which product category tends to have the highest median price? Don't filter here by top categories.\n",
    "Bar Charts:\n",
    "\n",
    "Create a bar chart comparing the average price of products for the top 10 product categories (based on count).\n",
    "Which product category commands the highest average price? Don't filter here by top categories.\n",
    "Box Plots:\n",
    "\n",
    "Visualize the distribution of product ratings based on their category using side-by-side box plots. Filter out the top 10 categories based on count for better visualization.\n",
    "Which category tends to receive the highest median rating from customers? Don't filter here by top categories."
   ]
  },
  {
   "cell_type": "code",
   "execution_count": null,
   "id": "95a49785-0b0f-42fa-9d67-14886d9d570d",
   "metadata": {},
   "outputs": [],
   "source": [
    "def tukeys_test_outliers(data):\n",
    "    Q1 = data.quantile(0.25)\n",
    "    Q3 = data.quantile(0.75)\n",
    "    IQR = Q3 - Q1\n",
    "    \n",
    "    # Define bounds for the outliers\n",
    "    lower_bound = Q1 - 1.5 * IQR\n",
    "    upper_bound = Q3 + 1.5 * IQR\n",
    "    \n",
    "    # Identify the outliers\n",
    "    outliers = data[(data < lower_bound) | (data > upper_bound)]\n",
    "    \n",
    "    return outliers"
   ]
  },
  {
   "cell_type": "code",
   "execution_count": null,
   "id": "fb087ea8-9326-4743-ad2f-7e4ed21d8e4e",
   "metadata": {},
   "outputs": [],
   "source": [
    "data_series = df['price']  # replace 'ColumnName' with your specific column\n",
    "outliers = tukeys_test_outliers(data_series)\n",
    "outliers"
   ]
  },
  {
   "cell_type": "code",
   "execution_count": null,
   "id": "2f4c0e36-2460-4a24-8264-58cbc3bad1d5",
   "metadata": {},
   "outputs": [],
   "source": [
    "# Filter out rows that contain outlier values\n",
    "filtered_df = df[~df['price'].isin(outliers)]\n",
    "\n",
    "filtered_df"
   ]
  },
  {
   "cell_type": "code",
   "execution_count": null,
   "id": "fb630924-2018-467d-bfd4-8f386003812a",
   "metadata": {},
   "outputs": [],
   "source": [
    "df.groupby(\"category\")[\"price\"].count().sort_values(ascending=False).head(20)\n"
   ]
  },
  {
   "cell_type": "code",
   "execution_count": null,
   "id": "4cbb4b83-1b6f-42d2-a3b7-7324e4d5781d",
   "metadata": {},
   "outputs": [],
   "source": [
    "sns.violinplot(data=df[df['category'].isin(df.groupby(\"category\")[\"price\"].count().sort_values(ascending=False).head(20).index)],\n",
    "               x='price', y='category', palette='coolwarm')\n"
   ]
  },
  {
   "cell_type": "code",
   "execution_count": null,
   "id": "f8934d5e-52c5-40e3-afc8-a30c94093d5d",
   "metadata": {},
   "outputs": [],
   "source": [
    "\n",
    "category_median_price = df.groupby('category')['price'].median().max()\n",
    "\n",
    "\n",
    "#highest_median_price_category = category_median_price.idxmax()\n",
    "\n",
    "print(\"Category with the highest median price:\", highest_median_price_category)\n",
    "category_median_price, highest_median_price_category\n",
    "\n"
   ]
  },
  {
   "cell_type": "code",
   "execution_count": null,
   "id": "ae107990-1f16-46a1-8610-f3863686b75d",
   "metadata": {},
   "outputs": [],
   "source": [
    "df.groupby('category')['price'].mean().sort_values(ascending=False).head(20)"
   ]
  },
  {
   "cell_type": "code",
   "execution_count": null,
   "id": "e442727d-ad91-472f-aad1-57b602d96d49",
   "metadata": {},
   "outputs": [],
   "source": [
    "import matplotlib.pyplot as plt\n",
    "\n",
    "# Identify the top 10 product categories based on count\n",
    "top_categories = df['category'].value_counts().head(10).index\n",
    "\n",
    "# Filter the DataFrame to include only the data corresponding to the top 10 categories\n",
    "df_top_categories = df[df['category'].isin(top_categories)]\n",
    "\n",
    "# Calculate the average price for each category\n",
    "category_avg_price = df_top_categories.groupby('category')['price'].mean()\n",
    "\n",
    "# Create a bar chart to visualize the average price of products for the top 10 categories\n",
    "plt.figure(figsize=(12, 8))\n",
    "category_avg_price.plot(kind='bar', color='skyblue')\n",
    "plt.title('Average Price of Products for Top 10 Categories')\n",
    "plt.xlabel('Product Category')\n",
    "plt.ylabel('Average Price')\n",
    "plt.xticks(rotation=90)\n",
    "plt.show()\n",
    "\n",
    "# Identify the product category with the highest average price\n",
    "highest_avg_price_category = category_avg_price.idxmax()\n",
    "highest_avg_price = category_avg_price.max()\n",
    "print(\"Product category with the highest average price:\", highest_avg_price_category)\n",
    "print(\"Highest average price:\", highest_avg_price)\n"
   ]
  },
  {
   "cell_type": "markdown",
   "id": "988b70db-7b40-4a3a-8e14-3a6d5be8b5cc",
   "metadata": {},
   "source": [
    "Objective: Analyze how product ratings (stars) correlate with product prices.\n",
    "\n",
    "Correlation Coefficients:\n",
    "\n",
    "Calculate the correlation coefficient between price and stars.\n",
    "Is there a significant correlation between product price and its rating?\n",
    "Visualizations:\n",
    "\n",
    "Use a scatter plot to visualize the relationship between product rating and price. What patterns can you observe?\n",
    "Use a correlation heatmap to visualize correlations between all numerical variables.\n",
    "Examine if product prices typically follow a normal distribution using a QQ plot."
   ]
  },
  {
   "cell_type": "code",
   "execution_count": null,
   "id": "3a3450fe-ccd0-4a8f-817d-0097ec0838dd",
   "metadata": {},
   "outputs": [],
   "source": [
    "df_filtered = df[df['stars'] != 0]\n",
    "correlation_coefficient = df_filtered['price'].corr(df_filtered['stars'])\n",
    "correlation_coefficient"
   ]
  },
  {
   "cell_type": "code",
   "execution_count": null,
   "id": "deeffad6-f766-4e5e-9dda-f8cb3ae0c3bc",
   "metadata": {},
   "outputs": [],
   "source": [
    "df_filtered.describe().round(2)"
   ]
  },
  {
   "cell_type": "code",
   "execution_count": null,
   "id": "373f6d98-b2be-4e7d-9cbb-dec4e4ef5f4a",
   "metadata": {},
   "outputs": [],
   "source": [
    "potential_categorical_from_numerical = df.select_dtypes(\"number\").loc[:, df.select_dtypes(\"number\").nunique() < 20]\n",
    "potential_categorical_from_numerical\n",
    "df_categorical = pd.concat([df.select_dtypes(\"object\"), potential_categorical_from_numerical], axis=1)\n",
    "df_numerical = df.select_dtypes(\"number\").drop(columns=potential_categorical_from_numerical.columns)\n",
    "spearman_correlations = df_numerical.corrwith(df['price'], method='spearman')\n",
    "\n",
    "# Sorting the correlations for better visualization\n",
    "spearman_correlations_sorted = spearman_correlations.sort_values(ascending=False)\n",
    "\n",
    "# Displaying the correlations\n",
    "spearman_correlations_sorted"
   ]
  },
  {
   "cell_type": "code",
   "execution_count": null,
   "id": "8bdb39b5-9ee1-40a6-a134-46e684bacb50",
   "metadata": {},
   "outputs": [],
   "source": [
    "sns.scatterplot(data=df_filtered, x='stars', y='price')"
   ]
  },
  {
   "cell_type": "code",
   "execution_count": null,
   "id": "a0fcecde-e3ea-479f-a24e-44f71516b99c",
   "metadata": {},
   "outputs": [],
   "source": [
    "correlation_matrix = df_numerical.corr()\n",
    "\n",
    "# Setting up the matplotlib figure with an appropriate size\n",
    "\n",
    "\n",
    "# Drawing the heatmap for the numerical columns\n",
    "sns.heatmap(correlation_matrix, annot=True, cmap=\"coolwarm\")\n",
    "\n",
    "plt.title(\"Correlation Heatmap for Selected Numerical Variables\")\n",
    "plt.show()"
   ]
  },
  {
   "cell_type": "code",
   "execution_count": null,
   "id": "21de5895-60d9-4dc0-a7e9-78b4b7cae571",
   "metadata": {},
   "outputs": [],
   "source": []
  },
  {
   "cell_type": "code",
   "execution_count": null,
   "id": "63f77f04-2e33-4521-816a-f8c60d738b44",
   "metadata": {},
   "outputs": [],
   "source": []
  }
 ],
 "metadata": {
  "kernelspec": {
   "display_name": "Python 3 (ipykernel)",
   "language": "python",
   "name": "python3"
  },
  "language_info": {
   "codemirror_mode": {
    "name": "ipython",
    "version": 3
   },
   "file_extension": ".py",
   "mimetype": "text/x-python",
   "name": "python",
   "nbconvert_exporter": "python",
   "pygments_lexer": "ipython3",
   "version": "3.11.7"
  }
 },
 "nbformat": 4,
 "nbformat_minor": 5
}
